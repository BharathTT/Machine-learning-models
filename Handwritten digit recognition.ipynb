{
 "cells": [
  {
   "cell_type": "markdown",
   "metadata": {},
   "source": [
    "<h2 style=\"color:blue\" align=\"center\">Tensorboard demo using handwritten digits classification using neural network</h2>"
   ]
  },
  {
   "cell_type": "markdown",
   "metadata": {},
   "source": [
    "In this notebook we will classify handwritten digits using a simple neural network which has only input and output layers. We will than add a hidden layer and see how the performance of the model improves"
   ]
  },
  {
   "cell_type": "code",
   "execution_count": 1,
   "metadata": {},
   "outputs": [
    {
     "name": "stderr",
     "output_type": "stream",
     "text": [
      "2023-06-29 14:53:28.169942: I tensorflow/core/util/port.cc:110] oneDNN custom operations are on. You may see slightly different numerical results due to floating-point round-off errors from different computation orders. To turn them off, set the environment variable `TF_ENABLE_ONEDNN_OPTS=0`.\n",
      "2023-06-29 14:53:28.179256: I tensorflow/tsl/cuda/cudart_stub.cc:28] Could not find cuda drivers on your machine, GPU will not be used.\n",
      "2023-06-29 14:53:28.227148: I tensorflow/tsl/cuda/cudart_stub.cc:28] Could not find cuda drivers on your machine, GPU will not be used.\n",
      "2023-06-29 14:53:28.228252: I tensorflow/core/platform/cpu_feature_guard.cc:182] This TensorFlow binary is optimized to use available CPU instructions in performance-critical operations.\n",
      "To enable the following instructions: AVX2 AVX512F AVX512_VNNI FMA, in other operations, rebuild TensorFlow with the appropriate compiler flags.\n",
      "2023-06-29 14:53:29.176819: W tensorflow/compiler/tf2tensorrt/utils/py_utils.cc:38] TF-TRT Warning: Could not find TensorRT\n"
     ]
    }
   ],
   "source": [
    "import tensorflow as tf\n",
    "from tensorflow import keras\n",
    "import matplotlib.pyplot as plt\n",
    "%matplotlib inline\n",
    "import numpy as np"
   ]
  },
  {
   "cell_type": "code",
   "execution_count": 2,
   "metadata": {},
   "outputs": [],
   "source": [
    "(X_train, y_train) , (X_test, y_test) = keras.datasets.mnist.load_data()"
   ]
  },
  {
   "cell_type": "code",
   "execution_count": 3,
   "metadata": {},
   "outputs": [
    {
     "data": {
      "text/plain": [
       "60000"
      ]
     },
     "execution_count": 3,
     "metadata": {},
     "output_type": "execute_result"
    }
   ],
   "source": [
    "len(X_train)"
   ]
  },
  {
   "cell_type": "code",
   "execution_count": 4,
   "metadata": {},
   "outputs": [
    {
     "data": {
      "text/plain": [
       "10000"
      ]
     },
     "execution_count": 4,
     "metadata": {},
     "output_type": "execute_result"
    }
   ],
   "source": [
    "len(X_test)"
   ]
  },
  {
   "cell_type": "code",
   "execution_count": 5,
   "metadata": {},
   "outputs": [
    {
     "data": {
      "text/plain": [
       "(28, 28)"
      ]
     },
     "execution_count": 5,
     "metadata": {},
     "output_type": "execute_result"
    }
   ],
   "source": [
    "X_train[0].shape"
   ]
  },
  {
   "cell_type": "code",
   "execution_count": 6,
   "metadata": {},
   "outputs": [
    {
     "data": {
      "text/plain": [
       "<matplotlib.image.AxesImage at 0x7f80b82b8220>"
      ]
     },
     "execution_count": 6,
     "metadata": {},
     "output_type": "execute_result"
    },
    {
     "data": {
      "image/png": "[encoded data removed]",
      "text/plain": [
       "<Figure size 480x480 with 1 Axes>"
      ]
     },
     "metadata": {},
     "output_type": "display_data"
    }
   ],
   "source": [
    "plt.matshow(X_train[0])"
   ]
  },
  {
   "cell_type": "code",
   "execution_count": 7,
   "metadata": {},
   "outputs": [
    {
     "data": {
      "text/plain": [
       "5"
      ]
     },
     "execution_count": 7,
     "metadata": {},
     "output_type": "execute_result"
    }
   ],
   "source": [
    "y_train[0]"
   ]
  },
  {
   "cell_type": "code",
   "execution_count": 8,
   "metadata": {},
   "outputs": [],
   "source": [
    "X_train = X_train / 255\n",
    "X_test = X_test / 255"
   ]
  },
  {
   "cell_type": "code",
   "execution_count": 9,
   "metadata": {},
   "outputs": [],
   "source": [
    "X_train_flattened = X_train.reshape(len(X_train), 28*28)\n",
    "X_test_flattened = X_test.reshape(len(X_test), 28*28)"
   ]
  },
  {
   "cell_type": "code",
   "execution_count": 10,
   "metadata": {},
   "outputs": [
    {
     "data": {
      "text/plain": [
       "(60000, 784)"
      ]
     },
     "execution_count": 10,
     "metadata": {},
     "output_type": "execute_result"
    }
   ],
   "source": [
    "X_train_flattened.shape"
   ]
  },
  {
   "cell_type": "markdown",
   "metadata": {},
   "source": [
    "<h3 style='color:purple'>Using Flatten layer so that we don't have to call .reshape on input dataset</h3>"
   ]
  },
  {
   "cell_type": "code",
   "execution_count": 11,
   "metadata": {
    "scrolled": false
   },
   "outputs": [
    {
     "name": "stdout",
     "output_type": "stream",
     "text": [
      "Epoch 1/5\n",
      "1875/1875 [==============================] - 9s 4ms/step - loss: 0.2736 - accuracy: 0.9218\n",
      "Epoch 2/5\n",
      "1875/1875 [==============================] - 6s 3ms/step - loss: 0.1204 - accuracy: 0.9638\n",
      "Epoch 3/5\n",
      "1875/1875 [==============================] - 5s 3ms/step - loss: 0.0819 - accuracy: 0.9754\n",
      "Epoch 4/5\n",
      "1875/1875 [==============================] - 5s 3ms/step - loss: 0.0629 - accuracy: 0.9807\n",
      "Epoch 5/5\n",
      "1875/1875 [==============================] - 5s 3ms/step - loss: 0.0496 - accuracy: 0.9848\n"
     ]
    },
    {
     "data": {
      "text/plain": [
       "<keras.callbacks.History at 0x7f80bb76df90>"
      ]
     },
     "execution_count": 11,
     "metadata": {},
     "output_type": "execute_result"
    }
   ],
   "source": [
    "model = keras.Sequential([\n",
    "    keras.layers.Flatten(input_shape=(28, 28)),\n",
    "    keras.layers.Dense(100, activation='relu'),\n",
    "    keras.layers.Dense(10, activation='sigmoid')\n",
    "])\n",
    "\n",
    "model.compile(optimizer='adam',\n",
    "              loss='sparse_categorical_crossentropy',\n",
    "              metrics=['accuracy'])\n",
    "\n",
    "tb_callback = tf.keras.callbacks.TensorBoard(log_dir=\"logs/\", histogram_freq=1)\n",
    "\n",
    "model.fit(X_train, y_train, epochs=5, callbacks=[tb_callback])"
   ]
  },
  {
   "cell_type": "code",
   "execution_count": 12,
   "metadata": {},
   "outputs": [
    {
     "data": {
      "text/plain": [
       "ERROR: Timed out waiting for TensorBoard to start. It may still be running as pid 37976."
      ]
     },
     "metadata": {},
     "output_type": "display_data"
    }
   ],
   "source": [
    "%load_ext tensorboard\n",
    "%tensorboard --logdir logs/"
   ]
  },
  {
   "cell_type": "markdown",
   "metadata": {},
   "source": [
    "Either run above inline magic or go to git bash or your command prompt and type below to run it,\n",
    "`tensorboard --logdir logs/`\n",
    "This will launch tensorboard at this url which you can open in your browser `http://localhost:6006/`"
   ]
  },
  {
   "cell_type": "code",
   "execution_count": 13,
   "metadata": {},
   "outputs": [
    {
     "data": {
      "text/plain": [
       "[array([[ 0.02867139,  0.01275916, -0.05777654, ...,  0.05400376,\n",
       "          0.01279462, -0.07745928],\n",
       "        [-0.06635856,  0.01041481, -0.06362462, ..., -0.03719248,\n",
       "          0.00623015, -0.04571644],\n",
       "        [-0.00390062,  0.00016941,  0.03427304, ...,  0.03079339,\n",
       "         -0.07243981,  0.01609492],\n",
       "        ...,\n",
       "        [-0.05699209,  0.00980535,  0.03068579, ...,  0.03886016,\n",
       "          0.0597762 , -0.01052494],\n",
       "        [-0.04112048,  0.07615839,  0.04792522, ...,  0.03272583,\n",
       "          0.02819911, -0.02113349],\n",
       "        [ 0.07389173, -0.05711065, -0.05071494, ..., -0.03499656,\n",
       "         -0.0702989 ,  0.00646182]], dtype=float32),\n",
       " array([-0.07489207,  0.00173912, -0.13790834, -0.06641458,  0.02988369,\n",
       "         0.09773943,  0.13923536,  0.0651691 ,  0.01034174,  0.03869791,\n",
       "        -0.04871295,  0.1696655 ,  0.13915005, -0.07924182, -0.04985299,\n",
       "        -0.07962275, -0.05170868, -0.05671517,  0.02099523,  0.03976074,\n",
       "        -0.0609066 ,  0.08487385, -0.073227  ,  0.09116964, -0.0766553 ,\n",
       "         0.1540259 , -0.08383808, -0.0149099 , -0.05094605,  0.02896202,\n",
       "        -0.12816647,  0.05394582,  0.0680092 ,  0.15360154, -0.06656905,\n",
       "         0.0493789 ,  0.05530852,  0.05098456,  0.04788822,  0.02237101,\n",
       "         0.0393114 , -0.05060786,  0.02630198,  0.06190996,  0.17477956,\n",
       "         0.12306844, -0.09752699, -0.10678515,  0.05477051,  0.11534461,\n",
       "        -0.00165036, -0.02478913,  0.04812007,  0.0819306 ,  0.06494919,\n",
       "         0.09769283, -0.04844921,  0.13052091, -0.0330251 , -0.01228354,\n",
       "        -0.08994766, -0.05011228, -0.0639144 , -0.05272173,  0.05984766,\n",
       "         0.05402642,  0.14709216,  0.02738431,  0.05502087,  0.07947735,\n",
       "         0.07116441,  0.07161669,  0.04874595,  0.12709823,  0.11038865,\n",
       "         0.10139133,  0.03686784,  0.16876096, -0.11739416,  0.12131622,\n",
       "        -0.00563116,  0.24353486,  0.05373136, -0.05584579,  0.09764001,\n",
       "         0.01049605,  0.05323028,  0.1254098 , -0.16301271,  0.07581232,\n",
       "         0.19502583, -0.02739809, -0.11692278, -0.16823073,  0.05195767,\n",
       "         0.03217207,  0.0269827 , -0.01533504, -0.0311806 ,  0.08897398],\n",
       "       dtype=float32),\n",
       " array([[ 9.46980938e-02,  2.05157802e-01,  1.44176319e-01,\n",
       "          1.83161914e-01, -3.42747532e-02,  8.78370479e-02,\n",
       "          7.70534128e-02, -1.04102120e-01,  1.92912385e-01,\n",
       "          1.26887336e-01],\n",
       "        [ 3.01495641e-02, -2.49343053e-01, -3.22772026e-01,\n",
       "          2.06323594e-01,  1.80558443e-01,  1.64832681e-01,\n",
       "         -3.49401265e-01, -1.14847861e-01,  2.27617398e-01,\n",
       "          1.84351847e-01],\n",
       "        [ 6.80539086e-02,  4.79588620e-02, -1.61050379e-01,\n",
       "          1.17925607e-01, -1.45676985e-01, -5.65048039e-01,\n",
       "          1.04071833e-01,  8.91801119e-02,  7.18258917e-02,\n",
       "          2.41083995e-01],\n",
       "        [ 1.51987523e-01,  2.11784407e-01, -1.02014974e-01,\n",
       "         -1.25925690e-01,  2.85260588e-01, -1.22452967e-01,\n",
       "          2.39274845e-01, -2.02456295e-01,  2.01052040e-01,\n",
       "         -2.20370535e-02],\n",
       "        [-1.38714641e-01, -5.22121191e-01,  2.68915325e-01,\n",
       "          2.74088442e-01, -4.03019637e-01,  1.72308564e-01,\n",
       "          3.32013369e-01,  2.07691818e-01, -4.64248866e-01,\n",
       "          3.01662147e-01],\n",
       "        [ 4.59288023e-02, -1.03683405e-01,  8.77541453e-02,\n",
       "         -5.14014482e-01,  3.58402967e-01, -8.29938520e-03,\n",
       "          3.67873013e-02, -1.16079241e-01,  1.17244013e-01,\n",
       "         -6.42057061e-01],\n",
       "        [-5.92145920e-01,  2.55162090e-01, -4.94518280e-01,\n",
       "         -8.52463171e-02,  3.23068976e-01,  1.36214137e-01,\n",
       "         -1.30346090e-01,  2.92331129e-01, -2.06077442e-01,\n",
       "          9.94529277e-02],\n",
       "        [ 2.53848791e-01, -8.04020166e-02, -3.84288281e-02,\n",
       "         -6.38916373e-01,  3.55782211e-01, -3.24145287e-01,\n",
       "         -1.52458400e-01,  3.19764465e-01, -3.34799215e-02,\n",
       "          9.53633413e-02],\n",
       "        [-2.24146768e-01,  2.00331435e-01,  8.01168829e-02,\n",
       "          6.93997517e-02, -1.74020752e-01,  5.01253083e-02,\n",
       "          1.21847456e-02, -2.02156663e-01,  2.20275462e-01,\n",
       "          1.06653012e-01],\n",
       "        [-4.93815809e-01,  2.09592476e-01, -2.37722591e-01,\n",
       "         -6.73335642e-02,  2.47772574e-01, -2.38107100e-01,\n",
       "         -5.48046649e-01,  3.73536721e-02,  1.53381050e-01,\n",
       "          1.97248936e-01],\n",
       "        [ 1.55346662e-01, -2.30266407e-01, -5.28297946e-02,\n",
       "         -2.43422668e-02,  6.30799532e-02, -4.47915792e-01,\n",
       "          1.98934749e-01,  2.31606573e-01, -3.08974624e-01,\n",
       "          8.83341357e-02],\n",
       "        [-4.60616976e-01,  2.85518885e-01,  4.28871453e-01,\n",
       "         -2.92513162e-01, -2.30719313e-01, -5.77007160e-02,\n",
       "          2.52198249e-01,  2.09660143e-01, -1.68634310e-01,\n",
       "         -7.49780178e-01],\n",
       "        [ 7.31490850e-02, -2.90077120e-01, -6.93025529e-01,\n",
       "         -3.81280869e-01, -3.31353635e-01,  3.57280523e-01,\n",
       "          4.08039242e-01, -4.25591409e-01, -7.32287019e-02,\n",
       "          3.29668909e-01],\n",
       "        [ 3.07475269e-01, -1.07796282e-01, -2.37753376e-01,\n",
       "         -1.44168153e-01,  2.86367834e-01, -2.90523291e-01,\n",
       "         -3.31748165e-02,  1.53549448e-01, -8.32416534e-01,\n",
       "          3.07597458e-01],\n",
       "        [-1.85812578e-01,  2.48261258e-01,  3.42767574e-02,\n",
       "          5.34005225e-01,  9.67174396e-02, -8.01465452e-01,\n",
       "          2.34155864e-01,  2.35659301e-01, -4.44806814e-01,\n",
       "         -4.50264990e-01],\n",
       "        [-9.71870571e-02,  1.97424531e-01,  1.68897033e-01,\n",
       "          2.09803984e-01, -6.74818516e-01,  6.35640398e-02,\n",
       "         -8.36669564e-01, -1.09719582e-01, -1.47051690e-02,\n",
       "          9.35080424e-02],\n",
       "        [-3.24955791e-01, -1.68573439e-01,  1.00092106e-01,\n",
       "          2.40367457e-01, -2.03061759e-01,  1.23416387e-01,\n",
       "         -1.72089264e-01,  1.20088682e-01,  1.07640326e-01,\n",
       "          2.02051140e-02],\n",
       "        [-4.82028663e-01, -3.74591440e-01, -5.22295594e-01,\n",
       "          2.69384295e-01,  2.57550865e-01,  3.03224996e-02,\n",
       "         -3.98384124e-01, -5.43127358e-01,  2.31796086e-01,\n",
       "          3.40128601e-01],\n",
       "        [ 2.46421307e-01,  7.38138407e-02,  4.61253762e-01,\n",
       "          1.05584987e-01,  2.37844586e-01,  2.32603714e-01,\n",
       "          1.91566676e-01, -5.72069660e-02, -4.57019836e-01,\n",
       "         -2.77826667e-01],\n",
       "        [ 1.17975287e-02,  1.27293795e-01,  2.07065880e-01,\n",
       "         -4.16826636e-01, -4.66336817e-01, -2.02780008e-01,\n",
       "          1.68932736e-01,  6.56334311e-02,  1.17171884e-01,\n",
       "          1.17709450e-01],\n",
       "        [-1.95446044e-01, -2.08162472e-01, -5.44560999e-02,\n",
       "          1.00519098e-01, -2.52706498e-01, -6.10870779e-01,\n",
       "          3.91259819e-01, -6.58697188e-02,  5.58772311e-02,\n",
       "          1.52427748e-01],\n",
       "        [-4.61559087e-01,  1.76409766e-01,  5.39890490e-02,\n",
       "         -4.85588372e-01,  3.73837888e-01, -3.49442571e-01,\n",
       "         -3.46276551e-01,  3.70339379e-02,  3.28225344e-01,\n",
       "         -5.17093599e-01],\n",
       "        [ 7.83908963e-02, -1.03694111e-01, -1.40793119e-02,\n",
       "          1.75241008e-01, -3.69768441e-01, -2.09230371e-03,\n",
       "         -2.29868829e-01, -1.78057134e-01,  2.59587288e-01,\n",
       "          1.10112786e-01],\n",
       "        [-3.26618478e-02,  2.64638692e-01,  3.34639698e-01,\n",
       "          1.48451388e-01, -2.12065458e-01,  2.29174361e-01,\n",
       "         -2.27386355e-01,  5.63361533e-02, -6.96029440e-02,\n",
       "         -5.96884489e-01],\n",
       "        [-3.96697134e-01,  3.17365736e-01, -4.09789205e-01,\n",
       "          5.74766457e-01, -2.45704800e-01, -1.99360192e-01,\n",
       "          3.00617337e-01, -2.02460334e-01, -3.55526447e-01,\n",
       "          3.48208547e-01],\n",
       "        [-1.57732680e-01, -6.09194756e-01, -3.08887661e-01,\n",
       "         -9.39610600e-02,  1.50223598e-01,  3.54567319e-02,\n",
       "          1.74628317e-01, -2.18096767e-02,  1.50070637e-01,\n",
       "         -3.27385440e-02],\n",
       "        [ 2.18459874e-01,  1.31465033e-01, -3.45059514e-01,\n",
       "         -2.02901319e-01,  1.21139344e-02, -3.67423356e-01,\n",
       "         -5.20438664e-02,  5.13486080e-02,  2.18017802e-01,\n",
       "          3.40118170e-01],\n",
       "        [ 1.34175807e-01, -5.08619659e-02,  3.07545990e-01,\n",
       "         -1.06255554e-01, -3.64889026e-01, -2.15791747e-01,\n",
       "          4.48738843e-01,  2.68714428e-02,  2.65897095e-01,\n",
       "         -8.08619022e-01],\n",
       "        [ 1.36053994e-01, -3.15846324e-01,  1.91935658e-01,\n",
       "         -8.37110728e-02,  1.52425095e-01, -3.83899420e-01,\n",
       "         -5.55397011e-02,  2.30990618e-01,  1.09932669e-01,\n",
       "          2.71846741e-01],\n",
       "        [-1.06574766e-01,  6.59844950e-02,  3.26705843e-01,\n",
       "         -5.55206895e-01, -2.73016598e-02, -9.66271460e-02,\n",
       "         -5.55742010e-02,  7.31060803e-02, -5.20016730e-01,\n",
       "         -1.06863700e-01],\n",
       "        [-2.46182397e-01,  1.47451907e-01,  1.63296729e-01,\n",
       "          4.59823757e-01,  1.70591503e-01, -4.24520820e-01,\n",
       "         -1.53314218e-01, -3.30160111e-01, -7.66206533e-02,\n",
       "          3.06367248e-01],\n",
       "        [ 2.35690743e-01, -1.74615771e-01,  9.55170989e-02,\n",
       "         -2.34976456e-01, -1.70445889e-02, -5.69682010e-02,\n",
       "         -4.47755784e-01,  1.26161337e-01,  1.04931809e-01,\n",
       "          2.33798221e-01],\n",
       "        [ 1.61177471e-01,  9.29399282e-02, -4.19233352e-01,\n",
       "         -1.30942479e-01,  1.88276172e-01,  2.28738144e-01,\n",
       "          1.25865921e-01, -7.68146068e-02,  1.88223526e-01,\n",
       "         -3.68845910e-01],\n",
       "        [ 2.91073602e-02, -3.67869675e-01, -3.70589346e-02,\n",
       "         -9.53869298e-02,  1.99817389e-01,  9.35624391e-02,\n",
       "         -5.15797399e-02, -1.97542220e-01,  6.16024137e-02,\n",
       "          6.91588223e-02],\n",
       "        [ 2.48204112e-01, -4.93992150e-01, -7.41130300e-03,\n",
       "          2.92185724e-01, -6.20616794e-01,  3.90305854e-02,\n",
       "          1.90487981e-01,  1.67612240e-01, -9.39629525e-02,\n",
       "          2.73461472e-02],\n",
       "        [-9.03860271e-01,  2.03596167e-02, -2.09339201e-01,\n",
       "          3.08319718e-01,  1.49788648e-01,  2.57442653e-01,\n",
       "         -4.80679423e-01, -5.63429296e-01,  1.26437590e-01,\n",
       "          1.72919065e-01],\n",
       "        [-3.21632713e-01,  3.16456735e-01,  1.30769432e-01,\n",
       "          1.87908992e-01, -8.08497906e-01,  2.40767658e-01,\n",
       "         -2.54606366e-01,  2.18973190e-01, -1.27612576e-01,\n",
       "         -2.83091396e-01],\n",
       "        [ 2.32850686e-01, -7.46149540e-01, -7.94740260e-01,\n",
       "         -3.62163752e-01,  1.33887172e-01,  4.34769899e-01,\n",
       "          2.96165526e-01,  3.19043636e-01, -2.34167024e-01,\n",
       "          7.11474270e-02],\n",
       "        [-9.56166014e-02,  1.18705913e-01,  5.33959270e-01,\n",
       "         -2.16471776e-01,  1.52989075e-01, -9.12138596e-02,\n",
       "         -5.05163252e-01, -2.70999283e-01, -2.79236346e-01,\n",
       "          3.45857203e-01],\n",
       "        [ 3.28819931e-01, -4.08505291e-01,  1.98721036e-01,\n",
       "         -3.80344450e-01, -1.95111722e-01,  1.74207494e-01,\n",
       "          1.95670575e-01,  3.50147784e-01, -5.08147597e-01,\n",
       "          9.25478041e-02],\n",
       "        [-2.23452568e-01, -4.76533622e-01, -2.83104300e-01,\n",
       "          2.97532260e-01, -1.15730040e-01,  1.97406128e-01,\n",
       "         -5.79700708e-01,  2.33302966e-01, -1.35462537e-01,\n",
       "          2.48216793e-01],\n",
       "        [-3.87669839e-02,  3.09169650e-01,  3.00426944e-03,\n",
       "          7.83718899e-02,  2.61011124e-01, -8.56873930e-01,\n",
       "         -1.38135418e-01, -4.61077243e-02,  1.29732089e-02,\n",
       "          2.74405509e-01],\n",
       "        [-2.20140725e-01, -5.87609001e-02, -1.14536330e-01,\n",
       "          1.50864437e-01, -1.81605667e-01,  9.58412737e-02,\n",
       "         -2.65893131e-01,  2.16452762e-01,  2.15567172e-01,\n",
       "          1.84335783e-01],\n",
       "        [-5.97440936e-02, -9.03842598e-02,  1.82659253e-01,\n",
       "         -5.16852438e-02, -2.05331713e-01, -1.41226873e-01,\n",
       "          1.02171795e-02, -1.76055446e-01,  1.90892279e-01,\n",
       "         -1.84689745e-01],\n",
       "        [-3.42158794e-01, -3.99303824e-01, -1.09783910e-01,\n",
       "          1.39289111e-01,  2.66671240e-01,  2.98297942e-01,\n",
       "         -5.12944579e-01,  2.45316252e-01,  1.37567148e-01,\n",
       "          7.85764530e-02],\n",
       "        [-3.01779836e-01,  5.62648177e-02,  2.17500910e-01,\n",
       "         -7.52371773e-02,  1.38350204e-01,  4.15517204e-02,\n",
       "         -6.12213135e-01,  9.67519134e-02,  8.45261365e-02,\n",
       "          7.66075626e-02],\n",
       "        [ 4.66994792e-01, -3.50132912e-01,  2.49488249e-01,\n",
       "          5.48013020e-04, -6.23100102e-01, -1.59746304e-01,\n",
       "          1.53495058e-01, -2.47086406e-01,  1.41070038e-01,\n",
       "          5.08894444e-01],\n",
       "        [ 2.70265162e-01, -5.73966354e-02, -5.34481227e-01,\n",
       "          7.63482526e-02,  1.84421375e-01, -2.50699461e-01,\n",
       "          2.15141565e-01,  2.34938902e-03, -4.26346004e-01,\n",
       "         -1.98876455e-01],\n",
       "        [-2.81001121e-01, -2.53989518e-01, -5.01048751e-02,\n",
       "          1.48695409e-01,  3.93226370e-02, -1.22756124e-01,\n",
       "         -2.10907310e-01,  1.72831178e-01,  1.94382712e-01,\n",
       "         -9.08793285e-02],\n",
       "        [ 2.91077703e-01, -3.10808182e-01,  2.85643578e-01,\n",
       "          1.28192510e-02, -4.04284358e-01,  1.87656745e-01,\n",
       "         -1.60231814e-01,  3.85099113e-01, -4.89850109e-03,\n",
       "         -7.00825751e-02],\n",
       "        [-9.24404785e-02,  5.49003422e-01,  7.81506673e-02,\n",
       "         -6.35965407e-01,  4.77458805e-01, -5.58578432e-01,\n",
       "         -2.54953116e-01,  2.42600307e-01, -3.77421558e-01,\n",
       "         -5.02044022e-01],\n",
       "        [ 8.15009847e-02, -1.44112915e-01,  1.72596902e-01,\n",
       "          1.32868856e-01,  2.40457743e-01, -2.18652919e-01,\n",
       "         -3.31999511e-02, -5.63781150e-02,  6.84424415e-02,\n",
       "         -3.14414829e-01],\n",
       "        [ 7.89606795e-02,  4.04947281e-01, -7.77972102e-01,\n",
       "         -3.77020448e-01, -2.76241362e-01,  3.89323324e-01,\n",
       "          4.56537724e-01, -3.27956825e-01, -9.23849568e-02,\n",
       "          1.00950807e-01],\n",
       "        [-9.90442485e-02,  3.31410021e-01, -1.29405484e-01,\n",
       "         -2.66188443e-01,  7.58555532e-01,  3.22273552e-01,\n",
       "         -4.51820731e-01, -7.26444870e-02,  1.83427595e-02,\n",
       "         -7.44403124e-01],\n",
       "        [-8.28509331e-02,  1.77688912e-01, -3.42954487e-01,\n",
       "         -3.66078496e-01,  2.21088037e-01,  2.89373755e-01,\n",
       "         -3.92187923e-01,  2.57613540e-01, -3.44263554e-01,\n",
       "          1.39400333e-01],\n",
       "        [-5.81395924e-01,  6.09032989e-01, -1.34221002e-01,\n",
       "         -2.41894796e-01, -5.72450340e-01,  5.57284176e-01,\n",
       "          2.61672199e-01, -2.39409938e-01, -2.34743372e-01,\n",
       "         -3.14365387e-01],\n",
       "        [-1.88299567e-01, -2.27503548e-03,  1.81034431e-01,\n",
       "          3.33169013e-01,  2.63973951e-01, -3.75252962e-01,\n",
       "          3.82070499e-03,  1.80376813e-01, -2.13579740e-03,\n",
       "         -3.17091733e-01],\n",
       "        [-4.49386016e-02,  5.85266054e-01, -2.14924201e-01,\n",
       "          3.15970451e-01, -2.60603845e-01,  1.78180724e-01,\n",
       "         -2.40036979e-01, -1.16862588e-01, -6.89192414e-01,\n",
       "         -1.91774309e-01],\n",
       "        [-4.06043977e-01, -8.07076752e-01, -5.15593767e-01,\n",
       "         -1.84529364e-01, -6.06220067e-01,  6.50255561e-01,\n",
       "          4.11334515e-01, -7.65869915e-02,  2.26424802e-02,\n",
       "          1.07331015e-01],\n",
       "        [-4.32729989e-01,  2.32704252e-01, -2.98554808e-01,\n",
       "          3.22509110e-01,  1.87371880e-01,  2.34547198e-01,\n",
       "          2.76549846e-01, -9.47477594e-02, -7.62837678e-02,\n",
       "         -4.08579439e-01],\n",
       "        [-3.83316219e-01, -4.20248136e-02,  3.33796114e-01,\n",
       "          4.29575473e-01, -6.98959291e-01, -4.19025272e-01,\n",
       "         -6.71783566e-01,  4.41697806e-01, -5.62254071e-01,\n",
       "         -7.87226856e-01],\n",
       "        [ 1.59600407e-01, -4.49573815e-01, -1.23177782e-01,\n",
       "          1.24183990e-01, -1.26120478e-01, -1.04812607e-01,\n",
       "         -2.17191596e-02,  8.54224619e-03,  1.91562727e-01,\n",
       "         -8.84299427e-02],\n",
       "        [ 2.22005397e-01, -2.10311845e-01, -2.23594874e-01,\n",
       "          1.99820057e-01, -1.77288905e-01,  1.07039511e-01,\n",
       "          1.39702156e-01, -2.92719841e-01,  2.51051724e-01,\n",
       "          3.00062299e-01],\n",
       "        [ 1.64280266e-01, -3.55806381e-01, -5.11636026e-02,\n",
       "          1.66627243e-01, -3.79870892e-01,  1.92761809e-01,\n",
       "         -5.33224404e-01, -1.83403134e-01, -3.63461077e-01,\n",
       "          1.87456429e-01],\n",
       "        [-1.10704243e+00, -3.41992974e-01, -5.37855208e-01,\n",
       "          3.90372962e-01,  3.39112580e-01,  4.27651644e-01,\n",
       "         -5.78476131e-01,  9.62786674e-02, -5.95068395e-01,\n",
       "          4.29864615e-01],\n",
       "        [ 1.92392573e-01, -2.45270416e-01,  7.55183697e-02,\n",
       "         -1.12788500e-02,  1.49704009e-01,  1.12200841e-01,\n",
       "          7.90093914e-02, -1.49849847e-01,  2.78298289e-01,\n",
       "          2.39000648e-01],\n",
       "        [-2.19807088e-01,  6.70740604e-02,  2.37722144e-01,\n",
       "         -3.56608778e-02, -9.30679068e-02,  8.65510255e-02,\n",
       "          1.08306825e-01, -5.51373243e-01,  2.18380883e-01,\n",
       "         -7.63541833e-02],\n",
       "        [ 2.22161442e-01,  2.51564801e-01, -1.99588880e-01,\n",
       "          3.00637454e-01, -2.86605805e-01, -2.81680644e-01,\n",
       "         -3.32978159e-01,  5.32198429e-01,  1.85371011e-01,\n",
       "         -1.90087736e-01],\n",
       "        [ 3.40663850e-01,  4.00198221e-01, -4.89536226e-01,\n",
       "         -7.43491888e-01,  1.38609648e-01,  2.67786264e-01,\n",
       "         -3.59220773e-01, -7.92076066e-02, -3.88562769e-01,\n",
       "          2.24652246e-01],\n",
       "        [-3.62020522e-01, -8.58568251e-02,  1.82724252e-01,\n",
       "          1.00273684e-01, -3.44153434e-01,  3.95602435e-01,\n",
       "          1.83606967e-01, -2.95703411e-02, -3.21568921e-02,\n",
       "         -4.29008722e-01],\n",
       "        [-5.16811728e-01,  1.30673155e-01,  2.25576952e-01,\n",
       "         -5.30053020e-01,  2.59299397e-01, -7.56239831e-01,\n",
       "         -5.29414080e-02,  3.72696131e-01,  4.32315245e-02,\n",
       "         -2.33702939e-02],\n",
       "        [-7.15579748e-01,  1.43620178e-01,  4.63733636e-02,\n",
       "         -6.43341362e-01, -1.35077134e-01,  2.08295196e-01,\n",
       "          3.03603530e-01, -6.30276278e-02, -2.76971702e-02,\n",
       "          1.89875495e-02],\n",
       "        [-4.46810722e-01, -3.12945724e-01,  4.39803541e-01,\n",
       "          9.24298167e-02, -4.60778892e-01,  3.12607437e-02,\n",
       "         -1.65752560e-01,  2.66963363e-01, -3.91346551e-02,\n",
       "         -7.48552531e-02],\n",
       "        [ 3.42653580e-02,  1.92752257e-01, -3.74200672e-01,\n",
       "         -3.71427909e-02, -4.49767739e-01,  3.59471530e-01,\n",
       "         -1.30132213e-01,  1.78398475e-01,  1.81130663e-01,\n",
       "         -2.23009825e-01],\n",
       "        [-5.60579002e-01, -3.02670628e-01,  1.64272398e-01,\n",
       "          3.01146328e-01,  8.84242728e-02,  1.04011104e-01,\n",
       "         -6.64433658e-01, -5.03421128e-02, -7.15944469e-01,\n",
       "         -2.69500256e-01],\n",
       "        [ 1.26277968e-01, -4.95536327e-01,  1.44651327e-02,\n",
       "          3.02995235e-01,  1.21538177e-01,  2.77768701e-01,\n",
       "          1.32547677e-01, -3.93931091e-01,  3.30450088e-02,\n",
       "         -2.52831459e-01],\n",
       "        [-2.17886001e-01, -1.16573356e-01,  1.30482614e-01,\n",
       "          1.26693904e-01,  2.10145399e-01, -2.48221338e-01,\n",
       "          1.35271475e-02, -1.78221047e-01,  1.72309801e-01,\n",
       "         -5.88817662e-03],\n",
       "        [ 2.14895874e-01,  6.77850723e-01,  4.72325772e-01,\n",
       "          7.15042874e-02,  3.85376483e-01, -3.88193615e-02,\n",
       "         -8.62846822e-02, -1.15254804e-01, -5.00046194e-01,\n",
       "         -7.86004007e-01],\n",
       "        [ 1.89136937e-01,  4.28954698e-03,  1.31225884e-01,\n",
       "          1.02921627e-01, -9.46130231e-02, -1.41271070e-01,\n",
       "          1.02965869e-02, -5.12785971e-01, -4.18767840e-01,\n",
       "          6.17268719e-02],\n",
       "        [ 2.73522377e-01, -3.95468771e-01,  6.34675398e-02,\n",
       "          1.55106798e-01, -1.11561697e-02,  2.32686430e-01,\n",
       "         -6.24994934e-01,  2.09054470e-01,  2.07274228e-01,\n",
       "          1.69745728e-01],\n",
       "        [-3.91263664e-01,  2.82124728e-01,  1.32598817e-01,\n",
       "         -3.39285806e-02, -4.72444177e-01,  9.24808010e-02,\n",
       "         -1.35829777e-01,  2.54726946e-01, -1.70465857e-01,\n",
       "         -8.79825234e-01],\n",
       "        [-9.91549045e-02,  1.13940276e-01, -1.96724251e-01,\n",
       "         -3.20603549e-01, -2.86358416e-01,  6.49201751e-01,\n",
       "         -5.43976538e-02,  3.16490799e-01, -2.98584074e-01,\n",
       "         -3.26042548e-02],\n",
       "        [ 2.64093101e-01, -1.44955933e-01,  1.93092734e-01,\n",
       "          6.12700991e-02, -8.97187829e-01,  2.08458185e-01,\n",
       "          1.26077279e-01, -3.95887703e-01,  1.68820739e-01,\n",
       "         -2.13790849e-01],\n",
       "        [ 4.70977463e-02,  1.89326942e-01,  3.55577692e-02,\n",
       "          5.24749756e-02,  1.64434925e-01, -1.44121289e-01,\n",
       "         -2.86425084e-01, -9.42678824e-02,  1.65805340e-01,\n",
       "         -3.13826501e-01],\n",
       "        [ 6.49909899e-02,  3.87061626e-01,  5.29633582e-01,\n",
       "          1.68332353e-01, -6.52993143e-01, -7.80436277e-01,\n",
       "         -4.69247162e-01,  7.39887878e-02, -4.65493619e-01,\n",
       "         -1.13353044e-01],\n",
       "        [ 2.64988780e-01,  8.78695250e-02, -1.42826080e-01,\n",
       "          1.41569629e-01, -4.11617249e-01,  1.73581287e-01,\n",
       "          2.98441499e-01, -1.98057398e-01,  2.03407109e-01,\n",
       "         -6.24081969e-01],\n",
       "        [ 1.14111006e-01, -7.34421536e-02, -1.85702723e-02,\n",
       "         -4.67909843e-01,  2.44887859e-01,  9.70355347e-02,\n",
       "          3.76661390e-01, -1.03668086e-01, -4.30986732e-01,\n",
       "         -7.10363463e-02],\n",
       "        [-2.57995486e-01, -1.44354895e-01, -1.52308330e-01,\n",
       "         -4.73955134e-03, -4.82416078e-02,  2.27293342e-01,\n",
       "          2.52887189e-01, -5.71911454e-01,  2.03421965e-01,\n",
       "         -9.48348716e-02],\n",
       "        [ 1.87143907e-01,  2.75677532e-01, -5.94062269e-01,\n",
       "          1.70972407e-01,  1.19548894e-01, -6.30463064e-02,\n",
       "          4.00070995e-01,  9.14363638e-02, -1.76398203e-01,\n",
       "         -3.73379380e-01],\n",
       "        [-1.72149166e-01, -8.98990333e-02,  1.88742071e-01,\n",
       "         -6.67669356e-01,  2.08282590e-01, -1.64816439e-01,\n",
       "          2.61044681e-01,  9.35865045e-02, -1.03630841e-01,\n",
       "          6.25866577e-02],\n",
       "        [-1.64741501e-01,  1.33727282e-01, -5.95842242e-01,\n",
       "         -2.41202578e-01, -2.73120433e-01,  3.23201954e-01,\n",
       "         -3.72908860e-01,  4.02610242e-01, -4.97127175e-01,\n",
       "          4.16743487e-01],\n",
       "        [ 1.49169385e-01, -4.40039873e-01,  3.56174186e-02,\n",
       "         -3.54273349e-01,  9.95776579e-02, -2.79884458e-01,\n",
       "          2.00433806e-01,  2.75956094e-02,  1.41303152e-01,\n",
       "         -1.22941611e-02],\n",
       "        [ 1.79715797e-01,  2.58078396e-01,  3.81035835e-01,\n",
       "          4.51132134e-02,  1.64757282e-01, -3.41855675e-01,\n",
       "          1.55747101e-01,  5.02291143e-01,  7.05065578e-03,\n",
       "         -1.01419830e+00],\n",
       "        [ 2.92457402e-01, -4.86644626e-01,  1.07240498e-01,\n",
       "          1.52969807e-01, -1.21221893e-01, -5.19098714e-02,\n",
       "          7.43183494e-02,  7.69412518e-02, -3.44067544e-01,\n",
       "          2.25289777e-01],\n",
       "        [ 1.22243129e-01,  4.15490806e-01,  2.31292590e-01,\n",
       "         -2.96176523e-01,  4.41061080e-01, -3.68326604e-01,\n",
       "         -2.99506132e-02,  1.35354951e-01, -7.81989768e-02,\n",
       "          3.46701741e-01],\n",
       "        [ 1.44628048e-01,  5.00079878e-02,  2.23878156e-02,\n",
       "         -2.16089696e-01, -2.27574527e-01, -2.09468752e-01,\n",
       "          1.27521642e-02, -5.33559978e-01,  6.89678416e-02,\n",
       "         -1.95333257e-01],\n",
       "        [-1.20764770e-01, -4.80719268e-01,  3.31197709e-01,\n",
       "          7.56355301e-02,  2.32497435e-02,  1.63720399e-01,\n",
       "          1.54182076e-01, -5.30252099e-01, -3.98711890e-01,\n",
       "          4.07035321e-01],\n",
       "        [-1.33332029e-01,  3.03382844e-01,  2.91632503e-01,\n",
       "         -2.62391508e-01, -1.11737229e-01, -1.53004885e-01,\n",
       "          7.41375834e-02,  3.23611736e-01, -1.66231513e-01,\n",
       "         -7.90630043e-01],\n",
       "        [-7.89379328e-02,  2.50259846e-01, -4.89916325e-01,\n",
       "          2.89660275e-01, -3.71056676e-01,  3.96036655e-02,\n",
       "         -4.34984952e-01,  2.93254107e-01, -3.40061516e-01,\n",
       "          1.31507367e-01],\n",
       "        [-1.77937914e-02, -2.51407892e-01,  8.03309605e-02,\n",
       "         -3.12077314e-01,  1.32723361e-01,  2.92279482e-01,\n",
       "          2.05938250e-01, -3.50006461e-01,  2.51036048e-01,\n",
       "         -2.25604817e-01]], dtype=float32),\n",
       " array([-0.1289234 , -0.06564101,  0.06036941, -0.09460249,  0.04436907,\n",
       "         0.12476972, -0.11911205, -0.03280698,  0.13248956, -0.0145232 ],\n",
       "       dtype=float32)]"
      ]
     },
     "execution_count": 13,
     "metadata": {},
     "output_type": "execute_result"
    }
   ],
   "source": [
    "model.get_weights()"
   ]
  },
  {
   "cell_type": "code",
   "execution_count": null,
   "metadata": {},
   "outputs": [],
   "source": []
  }
 ],
 "metadata": {
  "kernelspec": {
   "display_name": "Python 3 (ipykernel)",
   "language": "python",
   "name": "python3"
  },
  "language_info": {
   "codemirror_mode": {
    "name": "ipython",
    "version": 3
   },
   "file_extension": ".py",
   "mimetype": "text/x-python",
   "name": "python",
   "nbconvert_exporter": "python",
   "pygments_lexer": "ipython3",
   "version": "3.10.6"
  }
 },
 "nbformat": 4,
 "nbformat_minor": 4
}
